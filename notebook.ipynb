{
 "cells": [
  {
   "cell_type": "markdown",
   "metadata": {},
   "source": [
    "# AirbnbPricePrediction\n",
    "\n",
    "## Table of Contents\n",
    "1. Project Preparation\n",
    "   - 1.1 Defining the problem and project goals.\n",
    "   - 1.2 Hypothesis\n",
    "\n",
    "2. Data Cleaning\n",
    "   - 2.1 Imports\n",
    "      - 2.1.1 Import libraries\n",
    "      - 2.1.2 Import dataset\n",
    "   - 2.2 Variable Identification\n",
    "   - 2.3 Remove duplicates\n",
    "   - 2.4 Remove values errors\n",
    "   - 2.5 Outliers Treatment\n",
    "   - 2.6 Handle Missing Values\n",
    "   - 2.7 Drop Unnecessary Columns\n",
    "\n",
    "3. Exploratory Data Analysis\n",
    "   - 3.1 Initial Exploration\n",
    "   - 3.2 Univariate Analysis\n",
    "   - 3.3 Bivariate Analysis\n",
    "      - 3.3.1 Numerical-Numerical Variable\n",
    "      - 3.3.2 Categorical-Numerical Variable\n",
    "\n",
    "4. Data Preprocessing\n",
    "   - 4.1 Transformation of Distributions\n",
    "   - 4.2 Feature Engineering\n",
    "      - 4.2.1 Creating New Features\n",
    "      - 4.2.2 Feature Scaling\n",
    "      - 4.2.3 Encoding Categorical Variables\n",
    "         - 4.2.3.1 Label Encoding\n",
    "         - 4.2.3.2 One Hot Encoding\n",
    "   - 4.3 Data Splitting (Train-Test-Validation)\n",
    "\n",
    "5. The model\n",
    "   - 5.1 Model Building\n",
    "   - 5.2 Model Training\n",
    "   - 5.3 Model Evaluation\n",
    "      - 5.3.1 K-Fold Cross Validation\n",
    "      - 5.3.2 Hyperparameter Tunning\n",
    "      - 5.3.3 Re-train with optimal hyperparameters for predictions\n",
    "      - 5.3.4 Feature Importance\n",
    "      - 5.3.5 Learning Curves\n",
    "   - 5.4 Test the model on Test Set\n",
    "\n",
    "6. Conclusion\n",
    "   - 6.1 Results of the project / Validating hypothesis\n",
    "   - 6.2 Improvements\n",
    "   - 6.3 Conclusion on the project / course\n",
    "\n",
    "## 1. Project Preparation\n",
    "...\n",
    "### 1.1 Defining the problem and project goals\n",
    "...\n",
    "### 1.2 Hypothesis\n",
    "...\n",
    "\n",
    "\n",
    "## 2. Data Cleaning\n",
    "...\n",
    "### 2.1 Imports\n",
    "#### 2.1.1 Import libraries"
   ]
  },
  {
   "cell_type": "code",
   "execution_count": 14,
   "metadata": {},
   "outputs": [],
   "source": [
    "import pandas as pd\n",
    "import numpy as np\n",
    "import os"
   ]
  },
  {
   "cell_type": "code",
   "execution_count": 15,
   "metadata": {},
   "outputs": [],
   "source": [
    "pd.set_option('display.max_columns', None)"
   ]
  },
  {
   "cell_type": "markdown",
   "metadata": {},
   "source": [
    "#### 2.1.2 Import dataset"
   ]
  },
  {
   "cell_type": "code",
   "execution_count": 16,
   "metadata": {},
   "outputs": [],
   "source": [
    "def extract_infos_from_filename(filename):\n",
    "    \"\"\"\n",
    "    Extracts information (city and period) from a CSV filename.\n",
    "\n",
    "    The filename follows the format 'city_period.csv', and this function aims to extract the city name\n",
    "    and the period information (weekends, weekdays) from the CSV file.\n",
    "\n",
    "    Examples:\n",
    "    - For 'london_weekends.csv', the function returns ('london', 'weekends').\n",
    "    - For 'lisbon_weekdays.csv', the function returns ('lisbon', 'weekdays').\n",
    "\n",
    "    Parameters:\n",
    "    - filename (str): The input filename to extract information which follows the format 'city_period.csv'.\n",
    "\n",
    "    Returns:\n",
    "    - tuple: A tuple containing two elements:\n",
    "        - city (str): The first part of the filename before the underscore.\n",
    "        - period (str): The second part of the filename before the CSV extension.\n",
    "    \"\"\"\n",
    "    parts = filename.split('_')\n",
    "    city = parts[0]\n",
    "    period = parts[1]\n",
    "    period = period.split('.')[0]\n",
    "    return city, period"
   ]
  },
  {
   "cell_type": "code",
   "execution_count": 17,
   "metadata": {},
   "outputs": [],
   "source": [
    "if os.path.exists('./data'):\n",
    "    file_names = os.listdir('./data')\n",
    "    file_names_csv = filter(lambda fichier: fichier.endswith(\".csv\"), file_names)\n",
    "else:\n",
    "    print(f\"The directory 'data' does not exist.\")"
   ]
  },
  {
   "cell_type": "code",
   "execution_count": 18,
   "metadata": {},
   "outputs": [],
   "source": [
    "dataset = pd.DataFrame()"
   ]
  },
  {
   "cell_type": "code",
   "execution_count": 19,
   "metadata": {},
   "outputs": [],
   "source": [
    "for filename in file_names_csv:\n",
    "    df = pd.read_csv('./data/' + filename)\n",
    "    \n",
    "    city, period = extract_infos_from_filename(filename)\n",
    "    df['city'] = city\n",
    "    df['period'] = period\n",
    "\n",
    "    dataset = pd.concat([dataset, df])"
   ]
  },
  {
   "cell_type": "code",
   "execution_count": 20,
   "metadata": {},
   "outputs": [
    {
     "data": {
      "text/html": [
       "<div>\n",
       "<style scoped>\n",
       "    .dataframe tbody tr th:only-of-type {\n",
       "        vertical-align: middle;\n",
       "    }\n",
       "\n",
       "    .dataframe tbody tr th {\n",
       "        vertical-align: top;\n",
       "    }\n",
       "\n",
       "    .dataframe thead th {\n",
       "        text-align: right;\n",
       "    }\n",
       "</style>\n",
       "<table border=\"1\" class=\"dataframe\">\n",
       "  <thead>\n",
       "    <tr style=\"text-align: right;\">\n",
       "      <th></th>\n",
       "      <th>Unnamed: 0</th>\n",
       "      <th>realSum</th>\n",
       "      <th>room_type</th>\n",
       "      <th>room_shared</th>\n",
       "      <th>room_private</th>\n",
       "      <th>person_capacity</th>\n",
       "      <th>host_is_superhost</th>\n",
       "      <th>multi</th>\n",
       "      <th>biz</th>\n",
       "      <th>cleanliness_rating</th>\n",
       "      <th>guest_satisfaction_overall</th>\n",
       "      <th>bedrooms</th>\n",
       "      <th>dist</th>\n",
       "      <th>metro_dist</th>\n",
       "      <th>attr_index</th>\n",
       "      <th>attr_index_norm</th>\n",
       "      <th>rest_index</th>\n",
       "      <th>rest_index_norm</th>\n",
       "      <th>lng</th>\n",
       "      <th>lat</th>\n",
       "      <th>city</th>\n",
       "      <th>period</th>\n",
       "    </tr>\n",
       "  </thead>\n",
       "  <tbody>\n",
       "    <tr>\n",
       "      <th>0</th>\n",
       "      <td>0</td>\n",
       "      <td>194.033698</td>\n",
       "      <td>Private room</td>\n",
       "      <td>False</td>\n",
       "      <td>True</td>\n",
       "      <td>2.0</td>\n",
       "      <td>False</td>\n",
       "      <td>1</td>\n",
       "      <td>0</td>\n",
       "      <td>10.0</td>\n",
       "      <td>93.0</td>\n",
       "      <td>1</td>\n",
       "      <td>5.022964</td>\n",
       "      <td>2.539380</td>\n",
       "      <td>78.690379</td>\n",
       "      <td>4.166708</td>\n",
       "      <td>98.253896</td>\n",
       "      <td>6.846473</td>\n",
       "      <td>4.90569</td>\n",
       "      <td>52.41772</td>\n",
       "      <td>amsterdam</td>\n",
       "      <td>weekdays</td>\n",
       "    </tr>\n",
       "    <tr>\n",
       "      <th>1</th>\n",
       "      <td>1</td>\n",
       "      <td>344.245776</td>\n",
       "      <td>Private room</td>\n",
       "      <td>False</td>\n",
       "      <td>True</td>\n",
       "      <td>4.0</td>\n",
       "      <td>False</td>\n",
       "      <td>0</td>\n",
       "      <td>0</td>\n",
       "      <td>8.0</td>\n",
       "      <td>85.0</td>\n",
       "      <td>1</td>\n",
       "      <td>0.488389</td>\n",
       "      <td>0.239404</td>\n",
       "      <td>631.176378</td>\n",
       "      <td>33.421209</td>\n",
       "      <td>837.280757</td>\n",
       "      <td>58.342928</td>\n",
       "      <td>4.90005</td>\n",
       "      <td>52.37432</td>\n",
       "      <td>amsterdam</td>\n",
       "      <td>weekdays</td>\n",
       "    </tr>\n",
       "    <tr>\n",
       "      <th>2</th>\n",
       "      <td>2</td>\n",
       "      <td>264.101422</td>\n",
       "      <td>Private room</td>\n",
       "      <td>False</td>\n",
       "      <td>True</td>\n",
       "      <td>2.0</td>\n",
       "      <td>False</td>\n",
       "      <td>0</td>\n",
       "      <td>1</td>\n",
       "      <td>9.0</td>\n",
       "      <td>87.0</td>\n",
       "      <td>1</td>\n",
       "      <td>5.748312</td>\n",
       "      <td>3.651621</td>\n",
       "      <td>75.275877</td>\n",
       "      <td>3.985908</td>\n",
       "      <td>95.386955</td>\n",
       "      <td>6.646700</td>\n",
       "      <td>4.97512</td>\n",
       "      <td>52.36103</td>\n",
       "      <td>amsterdam</td>\n",
       "      <td>weekdays</td>\n",
       "    </tr>\n",
       "    <tr>\n",
       "      <th>3</th>\n",
       "      <td>3</td>\n",
       "      <td>433.529398</td>\n",
       "      <td>Private room</td>\n",
       "      <td>False</td>\n",
       "      <td>True</td>\n",
       "      <td>4.0</td>\n",
       "      <td>False</td>\n",
       "      <td>0</td>\n",
       "      <td>1</td>\n",
       "      <td>9.0</td>\n",
       "      <td>90.0</td>\n",
       "      <td>2</td>\n",
       "      <td>0.384862</td>\n",
       "      <td>0.439876</td>\n",
       "      <td>493.272534</td>\n",
       "      <td>26.119108</td>\n",
       "      <td>875.033098</td>\n",
       "      <td>60.973565</td>\n",
       "      <td>4.89417</td>\n",
       "      <td>52.37663</td>\n",
       "      <td>amsterdam</td>\n",
       "      <td>weekdays</td>\n",
       "    </tr>\n",
       "    <tr>\n",
       "      <th>4</th>\n",
       "      <td>4</td>\n",
       "      <td>485.552926</td>\n",
       "      <td>Private room</td>\n",
       "      <td>False</td>\n",
       "      <td>True</td>\n",
       "      <td>2.0</td>\n",
       "      <td>True</td>\n",
       "      <td>0</td>\n",
       "      <td>0</td>\n",
       "      <td>10.0</td>\n",
       "      <td>98.0</td>\n",
       "      <td>1</td>\n",
       "      <td>0.544738</td>\n",
       "      <td>0.318693</td>\n",
       "      <td>552.830324</td>\n",
       "      <td>29.272733</td>\n",
       "      <td>815.305740</td>\n",
       "      <td>56.811677</td>\n",
       "      <td>4.90051</td>\n",
       "      <td>52.37508</td>\n",
       "      <td>amsterdam</td>\n",
       "      <td>weekdays</td>\n",
       "    </tr>\n",
       "  </tbody>\n",
       "</table>\n",
       "</div>"
      ],
      "text/plain": [
       "   Unnamed: 0     realSum     room_type  room_shared  room_private  \\\n",
       "0           0  194.033698  Private room        False          True   \n",
       "1           1  344.245776  Private room        False          True   \n",
       "2           2  264.101422  Private room        False          True   \n",
       "3           3  433.529398  Private room        False          True   \n",
       "4           4  485.552926  Private room        False          True   \n",
       "\n",
       "   person_capacity  host_is_superhost  multi  biz  cleanliness_rating  \\\n",
       "0              2.0              False      1    0                10.0   \n",
       "1              4.0              False      0    0                 8.0   \n",
       "2              2.0              False      0    1                 9.0   \n",
       "3              4.0              False      0    1                 9.0   \n",
       "4              2.0               True      0    0                10.0   \n",
       "\n",
       "   guest_satisfaction_overall  bedrooms      dist  metro_dist  attr_index  \\\n",
       "0                        93.0         1  5.022964    2.539380   78.690379   \n",
       "1                        85.0         1  0.488389    0.239404  631.176378   \n",
       "2                        87.0         1  5.748312    3.651621   75.275877   \n",
       "3                        90.0         2  0.384862    0.439876  493.272534   \n",
       "4                        98.0         1  0.544738    0.318693  552.830324   \n",
       "\n",
       "   attr_index_norm  rest_index  rest_index_norm      lng       lat       city  \\\n",
       "0         4.166708   98.253896         6.846473  4.90569  52.41772  amsterdam   \n",
       "1        33.421209  837.280757        58.342928  4.90005  52.37432  amsterdam   \n",
       "2         3.985908   95.386955         6.646700  4.97512  52.36103  amsterdam   \n",
       "3        26.119108  875.033098        60.973565  4.89417  52.37663  amsterdam   \n",
       "4        29.272733  815.305740        56.811677  4.90051  52.37508  amsterdam   \n",
       "\n",
       "     period  \n",
       "0  weekdays  \n",
       "1  weekdays  \n",
       "2  weekdays  \n",
       "3  weekdays  \n",
       "4  weekdays  "
      ]
     },
     "execution_count": 20,
     "metadata": {},
     "output_type": "execute_result"
    }
   ],
   "source": [
    "dataset.head(5)"
   ]
  },
  {
   "cell_type": "markdown",
   "metadata": {},
   "source": [
    "### 2.2 Variable Identification"
   ]
  },
  {
   "cell_type": "markdown",
   "metadata": {},
   "source": [
    "### 2.3 Remove duplicates"
   ]
  },
  {
   "cell_type": "markdown",
   "metadata": {},
   "source": [
    "### 2.4 Remove values errors"
   ]
  },
  {
   "cell_type": "markdown",
   "metadata": {},
   "source": [
    "### 2.5 Outliers Treatment"
   ]
  },
  {
   "cell_type": "markdown",
   "metadata": {},
   "source": [
    "### 2.6 Handle Missing Values"
   ]
  },
  {
   "cell_type": "markdown",
   "metadata": {},
   "source": [
    "### 2.7 Drop Unnecessary Columns\n",
    "// TODO : Drop cleanliness_rating, guest_satisfaction_overall, biz, multi ?"
   ]
  },
  {
   "cell_type": "code",
   "execution_count": 21,
   "metadata": {},
   "outputs": [],
   "source": [
    "dataset = dataset.drop(['Unnamed: 0', 'attr_index_norm', 'rest_index_norm'], axis=1)"
   ]
  },
  {
   "cell_type": "code",
   "execution_count": 22,
   "metadata": {},
   "outputs": [
    {
     "data": {
      "text/html": [
       "<div>\n",
       "<style scoped>\n",
       "    .dataframe tbody tr th:only-of-type {\n",
       "        vertical-align: middle;\n",
       "    }\n",
       "\n",
       "    .dataframe tbody tr th {\n",
       "        vertical-align: top;\n",
       "    }\n",
       "\n",
       "    .dataframe thead th {\n",
       "        text-align: right;\n",
       "    }\n",
       "</style>\n",
       "<table border=\"1\" class=\"dataframe\">\n",
       "  <thead>\n",
       "    <tr style=\"text-align: right;\">\n",
       "      <th></th>\n",
       "      <th>realSum</th>\n",
       "      <th>room_type</th>\n",
       "      <th>room_shared</th>\n",
       "      <th>room_private</th>\n",
       "      <th>person_capacity</th>\n",
       "      <th>host_is_superhost</th>\n",
       "      <th>multi</th>\n",
       "      <th>biz</th>\n",
       "      <th>cleanliness_rating</th>\n",
       "      <th>guest_satisfaction_overall</th>\n",
       "      <th>bedrooms</th>\n",
       "      <th>dist</th>\n",
       "      <th>metro_dist</th>\n",
       "      <th>attr_index</th>\n",
       "      <th>rest_index</th>\n",
       "      <th>lng</th>\n",
       "      <th>lat</th>\n",
       "      <th>city</th>\n",
       "      <th>period</th>\n",
       "    </tr>\n",
       "  </thead>\n",
       "  <tbody>\n",
       "    <tr>\n",
       "      <th>3118</th>\n",
       "      <td>206.731108</td>\n",
       "      <td>Private room</td>\n",
       "      <td>False</td>\n",
       "      <td>True</td>\n",
       "      <td>2.0</td>\n",
       "      <td>False</td>\n",
       "      <td>1</td>\n",
       "      <td>0</td>\n",
       "      <td>10.0</td>\n",
       "      <td>97.0</td>\n",
       "      <td>1</td>\n",
       "      <td>3.012658</td>\n",
       "      <td>0.084948</td>\n",
       "      <td>389.528883</td>\n",
       "      <td>833.601922</td>\n",
       "      <td>-0.16462</td>\n",
       "      <td>51.52236</td>\n",
       "      <td>london</td>\n",
       "      <td>weekends</td>\n",
       "    </tr>\n",
       "  </tbody>\n",
       "</table>\n",
       "</div>"
      ],
      "text/plain": [
       "         realSum     room_type  room_shared  room_private  person_capacity  \\\n",
       "3118  206.731108  Private room        False          True              2.0   \n",
       "\n",
       "      host_is_superhost  multi  biz  cleanliness_rating  \\\n",
       "3118              False      1    0                10.0   \n",
       "\n",
       "      guest_satisfaction_overall  bedrooms      dist  metro_dist  attr_index  \\\n",
       "3118                        97.0         1  3.012658    0.084948  389.528883   \n",
       "\n",
       "      rest_index      lng       lat    city    period  \n",
       "3118  833.601922 -0.16462  51.52236  london  weekends  "
      ]
     },
     "execution_count": 22,
     "metadata": {},
     "output_type": "execute_result"
    }
   ],
   "source": [
    "dataset.sample(1)"
   ]
  },
  {
   "cell_type": "markdown",
   "metadata": {},
   "source": [
    "## 3. Exploratory Data Analysis\n",
    "### 3.1 Initial Exploration"
   ]
  },
  {
   "cell_type": "markdown",
   "metadata": {},
   "source": [
    "### 3.2 Univariate Analysis"
   ]
  },
  {
   "cell_type": "markdown",
   "metadata": {},
   "source": [
    "### 3.3 Bivariate Analysis\n",
    "#### 3.3.1 Numerical-Numerical Variable"
   ]
  },
  {
   "cell_type": "markdown",
   "metadata": {},
   "source": [
    "#### 3.3.2 Categorical-Numerical Variable"
   ]
  },
  {
   "cell_type": "markdown",
   "metadata": {},
   "source": [
    "## 4. Data Preprocessing\n",
    "### 4.1 Transformation of Distributions"
   ]
  },
  {
   "cell_type": "markdown",
   "metadata": {},
   "source": [
    "### 4.2 Feature Engineering\n",
    "#### 4.2.1 Creating New Features"
   ]
  },
  {
   "cell_type": "markdown",
   "metadata": {},
   "source": [
    "#### 4.2.2 Feature Scaling"
   ]
  },
  {
   "cell_type": "markdown",
   "metadata": {},
   "source": [
    "#### 4.2.3 Encoding Categorical Variables\n",
    "##### 4.2.3.1 Label Encoding"
   ]
  },
  {
   "cell_type": "markdown",
   "metadata": {},
   "source": [
    "##### 4.2.3.2 One Hot Encoding"
   ]
  },
  {
   "cell_type": "markdown",
   "metadata": {},
   "source": [
    "### 4.3 Data Splitting (Train-Test-Validation)"
   ]
  },
  {
   "cell_type": "markdown",
   "metadata": {},
   "source": [
    "## 5. The model\n",
    "### 5.1 Model Building"
   ]
  },
  {
   "cell_type": "markdown",
   "metadata": {},
   "source": [
    "### 5.2 Model Training"
   ]
  },
  {
   "cell_type": "markdown",
   "metadata": {},
   "source": [
    "### 5.3 Model Evaluation\n",
    "#### 5.3.1 K-Fold Cross Validation"
   ]
  },
  {
   "cell_type": "markdown",
   "metadata": {},
   "source": [
    "#### 5.3.2 Hyperparameter Tunning"
   ]
  },
  {
   "cell_type": "markdown",
   "metadata": {},
   "source": [
    "#### 5.3.3 Re-train with optimal hyperparameters for predictions"
   ]
  },
  {
   "cell_type": "markdown",
   "metadata": {},
   "source": [
    "#### 5.3.4 Feature Importance"
   ]
  },
  {
   "cell_type": "markdown",
   "metadata": {},
   "source": [
    "#### 5.3.5 Learning Curves"
   ]
  },
  {
   "cell_type": "markdown",
   "metadata": {},
   "source": [
    "### 5.4 Test the model on Test Set"
   ]
  },
  {
   "cell_type": "markdown",
   "metadata": {},
   "source": [
    "## 6. Conclusion\n",
    "### 6.1 Results of the project / Validating hypothesis\n",
    "...\n",
    "### 6.2 Improvements\n",
    "...\n",
    "### 6.3 Conclusion on the project / course\n",
    "..."
   ]
  }
 ],
 "metadata": {
  "kernelspec": {
   "display_name": ".venv",
   "language": "python",
   "name": "python3"
  },
  "language_info": {
   "codemirror_mode": {
    "name": "ipython",
    "version": 3
   },
   "file_extension": ".py",
   "mimetype": "text/x-python",
   "name": "python",
   "nbconvert_exporter": "python",
   "pygments_lexer": "ipython3",
   "version": "3.11.5"
  }
 },
 "nbformat": 4,
 "nbformat_minor": 2
}
